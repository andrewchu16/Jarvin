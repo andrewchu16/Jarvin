{
 "cells": [
  {
   "cell_type": "code",
   "execution_count": 1,
   "metadata": {},
   "outputs": [],
   "source": [
    "import spacy\n",
    "from spacy.training import Example\n",
    "from spacy.util import minibatch, compounding\n",
    "import random"
   ]
  },
  {
   "cell_type": "code",
   "execution_count": 3,
   "metadata": {},
   "outputs": [],
   "source": [
    "from training_data import TRAIN_DATA"
   ]
  },
  {
   "cell_type": "code",
   "execution_count": 4,
   "metadata": {},
   "outputs": [
    {
     "name": "stdout",
     "output_type": "stream",
     "text": [
      "repoX.\n",
      "repoY.\n",
      "repoZ.\n",
      "repo123\n",
      "main\n",
      "develop\n",
      "feature/new-feature\n",
      "hotfix\n",
      "#general\n",
      "#development\n",
      "#marketing\n",
      "#team-leads\n",
      "pull requests\n",
      "repoX.\n",
      "PR #123\n",
      "repoY.\n",
      "PRs\n",
      "repoZ\n",
      "PRs\n",
      "hotfix\n"
     ]
    }
   ],
   "source": [
    "# verify train data works\n",
    "for text, annotation in TRAIN_DATA:\n",
    "    start_index = annotation[\"entities\"][0][0]\n",
    "    end_index = annotation[\"entities\"][0][1]\n",
    "    \n",
    "    print(text[start_index:end_index])\n",
    "    \n",
    "    if len(annotation[\"entities\"]) > 1:\n",
    "        start_index = annotation[\"entities\"][1][0]\n",
    "        end_index = annotation[\"entities\"][1][1]\n",
    "        print(text[start_index:end_index])"
   ]
  },
  {
   "cell_type": "code",
   "execution_count": 5,
   "metadata": {},
   "outputs": [],
   "source": [
    "# Create a blank English model\n",
    "nlp = spacy.blank(\"en\")\n",
    "\n",
    "# Add the NER component\n",
    "if \"ner\" not in nlp.pipe_names:\n",
    "    ner = nlp.add_pipe(\"ner\")\n",
    "else:\n",
    "    ner = nlp.get_pipe(\"ner\")\n",
    "\n",
    "for _, annotations in TRAIN_DATA:\n",
    "    for ent in annotations.get(\"entities\"):\n",
    "        ner.add_label(ent[2])  # Add entity labels (e.g., \"REPOSITORY\", \"BRANCH\")\n",
    "\n",
    "# Create training examples\n",
    "examples = []\n",
    "for text, annotations in TRAIN_DATA:\n",
    "    doc = nlp.make_doc(text)\n",
    "    example = Example.from_dict(doc, annotations)\n",
    "    examples.append(example)"
   ]
  },
  {
   "cell_type": "code",
   "execution_count": 7,
   "metadata": {},
   "outputs": [
    {
     "name": "stdout",
     "output_type": "stream",
     "text": [
      "Iteration 1: Losses - {'ner': np.float32(106.84619)}\n",
      "Iteration 2: Losses - {'ner': np.float32(94.833405)}\n",
      "Iteration 3: Losses - {'ner': np.float32(65.96361)}\n",
      "Iteration 4: Losses - {'ner': np.float32(40.45555)}\n",
      "Iteration 5: Losses - {'ner': np.float32(35.238857)}\n",
      "Iteration 6: Losses - {'ner': np.float32(35.18705)}\n",
      "Iteration 7: Losses - {'ner': np.float32(29.717886)}\n",
      "Iteration 8: Losses - {'ner': np.float32(27.533236)}\n",
      "Iteration 9: Losses - {'ner': np.float32(25.855633)}\n",
      "Iteration 10: Losses - {'ner': np.float32(23.798717)}\n",
      "Iteration 11: Losses - {'ner': np.float32(30.205662)}\n",
      "Iteration 12: Losses - {'ner': np.float32(23.020939)}\n",
      "Iteration 13: Losses - {'ner': np.float32(22.922615)}\n",
      "Iteration 14: Losses - {'ner': np.float32(20.011106)}\n",
      "Iteration 15: Losses - {'ner': np.float32(16.589085)}\n",
      "Iteration 16: Losses - {'ner': np.float32(13.470038)}\n",
      "Iteration 17: Losses - {'ner': np.float32(13.104949)}\n",
      "Iteration 18: Losses - {'ner': np.float32(10.065937)}\n",
      "Iteration 19: Losses - {'ner': np.float32(9.432807)}\n",
      "Iteration 20: Losses - {'ner': np.float32(8.749968)}\n"
     ]
    }
   ],
   "source": [
    "# Start training\n",
    "optimizer = nlp.begin_training()\n",
    "for i in range(20):  # Number of iterations\n",
    "    random.shuffle(examples)\n",
    "    losses = {}\n",
    "    batches = minibatch(examples, size=compounding(4.0, 32.0, 1.001))\n",
    "    for batch in batches:\n",
    "        nlp.update(batch, drop=0.35, losses=losses)\n",
    "    print(f\"Iteration {i + 1}: Losses - {losses}\")"
   ]
  },
  {
   "cell_type": "code",
   "execution_count": 8,
   "metadata": {},
   "outputs": [],
   "source": [
    "nlp.to_disk(\"custom_ner_model\")"
   ]
  }
 ],
 "metadata": {
  "kernelspec": {
   "display_name": "jarvin",
   "language": "python",
   "name": "python3"
  },
  "language_info": {
   "codemirror_mode": {
    "name": "ipython",
    "version": 3
   },
   "file_extension": ".py",
   "mimetype": "text/x-python",
   "name": "python",
   "nbconvert_exporter": "python",
   "pygments_lexer": "ipython3",
   "version": "3.12.7"
  }
 },
 "nbformat": 4,
 "nbformat_minor": 2
}
